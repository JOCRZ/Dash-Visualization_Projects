{
 "cells": [
  {
   "cell_type": "code",
   "execution_count": 8,
   "metadata": {},
   "outputs": [],
   "source": [
    "import pandas as pd\n",
    "import openpyxl\n",
    "import os"
   ]
  },
  {
   "cell_type": "code",
   "execution_count": 9,
   "metadata": {},
   "outputs": [],
   "source": [
    "pwd = os.getcwd()"
   ]
  },
  {
   "cell_type": "code",
   "execution_count": 14,
   "metadata": {},
   "outputs": [
    {
     "name": "stdout",
     "output_type": "stream",
     "text": [
      "2018\n",
      "2019\n",
      "2020\n",
      "meal_cost\n",
      "market_segment\n"
     ]
    }
   ],
   "source": [
    "\n",
    "def sheetNames(name):\n",
    "    pwd = os.getcwd()  # Get the current working directory\n",
    "    file_path = os.path.join(pwd, name)  # Construct the full file path\n",
    "\n",
    "    # Load the Excel workbook\n",
    "    workbook = openpyxl.load_workbook(file_path)\n",
    "\n",
    "    # Get the sheet names\n",
    "    sheet_names = workbook.sheetnames\n",
    "\n",
    "    return sheet_names\n",
    "\n",
    "excel_file = 'Project_Data.xlsx'\n",
    "sheet_names = sheetNames(excel_file)\n"
   ]
  },
  {
   "cell_type": "code",
   "execution_count": 17,
   "metadata": {},
   "outputs": [
    {
     "data": {
      "text/plain": [
       "['2018', '2019', '2020', 'meal_cost', 'market_segment']"
      ]
     },
     "execution_count": 17,
     "metadata": {},
     "output_type": "execute_result"
    }
   ],
   "source": [
    "sheets = []\n",
    "for sheet in sheet_names:\n",
    "    sheets.append(sheet)\n",
    "\n",
    "sheets"
   ]
  },
  {
   "cell_type": "code",
   "execution_count": 18,
   "metadata": {},
   "outputs": [
    {
     "data": {
      "text/plain": [
       "5"
      ]
     },
     "execution_count": 18,
     "metadata": {},
     "output_type": "execute_result"
    }
   ],
   "source": [
    "len(sheets)"
   ]
  },
  {
   "cell_type": "code",
   "execution_count": 5,
   "metadata": {},
   "outputs": [],
   "source": [
    "data = pd.read_excel(pwd + '\\Project_Data.xlsx')"
   ]
  },
  {
   "cell_type": "code",
   "execution_count": 6,
   "metadata": {},
   "outputs": [],
   "source": [
    "df = data.copy()"
   ]
  },
  {
   "cell_type": "code",
   "execution_count": 29,
   "metadata": {},
   "outputs": [],
   "source": [
    "def save_csv(sheets):\n",
    "    for x in range(len(sheets)):\n",
    "        name = workbook.worksheets[x]\n",
    "        df = pd.read_excel(pwd+'\\Project_Data.xlsx',sheet_name=name)\n",
    "        csv = df.to_csv('name'+'.csv',index=False)\n",
    "        print('sheet {} has saved as csv'.format(name))\n",
    "\n",
    "\n",
    "print(save_csv(sheets))   "
   ]
  },
  {
   "cell_type": "code",
   "execution_count": 32,
   "metadata": {},
   "outputs": [
    {
     "name": "stdout",
     "output_type": "stream",
     "text": [
      "Sheet \"2018\" has been saved as CSV\n",
      "Sheet \"2019\" has been saved as CSV\n",
      "Sheet \"2020\" has been saved as CSV\n",
      "Sheet \"meal_cost\" has been saved as CSV\n",
      "Sheet \"market_segment\" has been saved as CSV\n"
     ]
    }
   ],
   "source": [
    "import os\n",
    "import pandas as pd\n",
    "from openpyxl import load_workbook\n",
    "\n",
    "def save_csv(sheets, excel_file_path, output_dir):\n",
    "    # Load the Excel workbook\n",
    "    workbook = load_workbook(excel_file_path)\n",
    "\n",
    "    for sheet_name in sheets:\n",
    "        df = pd.read_excel(excel_file_path, sheet_name=sheet_name)\n",
    "        csv_file_name = os.path.join(output_dir, sheet_name + '.csv')\n",
    "        df.to_csv(csv_file_name, index=False)\n",
    "        print(f'Sheet \"{sheet_name}\" has been saved as CSV')\n",
    "\n",
    "# Example usage\n",
    "sheets_to_save = sheets # Replace with your sheet names\n",
    "excel_file_path = 'Project_Data.xlsx'  # Replace with the path to your Excel file\n",
    "output_directory = 'output_csv'  # Replace with the directory where you want to save CSV files\n",
    "\n",
    "# Create the output directory if it doesn't exist\n",
    "os.makedirs(output_directory, exist_ok=True)\n",
    "\n",
    "save_csv(sheets_to_save, excel_file_path, output_directory)\n"
   ]
  },
  {
   "cell_type": "code",
   "execution_count": null,
   "metadata": {},
   "outputs": [],
   "source": []
  }
 ],
 "metadata": {
  "kernelspec": {
   "display_name": "base",
   "language": "python",
   "name": "python3"
  },
  "language_info": {
   "codemirror_mode": {
    "name": "ipython",
    "version": 3
   },
   "file_extension": ".py",
   "mimetype": "text/x-python",
   "name": "python",
   "nbconvert_exporter": "python",
   "pygments_lexer": "ipython3",
   "version": "3.9.13"
  },
  "orig_nbformat": 4
 },
 "nbformat": 4,
 "nbformat_minor": 2
}
