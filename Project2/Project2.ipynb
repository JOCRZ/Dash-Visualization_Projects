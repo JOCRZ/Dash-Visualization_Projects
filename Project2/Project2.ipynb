{
 "cells": [
  {
   "cell_type": "code",
   "execution_count": 1,
   "id": "b7dad75b-a90c-41ff-928d-1c2c835b6c69",
   "metadata": {},
   "outputs": [],
   "source": [
    "# aim to convert csv file to  dataframe and then insert it into sql Database."
   ]
  },
  {
   "cell_type": "code",
   "execution_count": 24,
   "id": "d162cdea-9b44-420b-9342-1bcd31c85da0",
   "metadata": {},
   "outputs": [],
   "source": [
    "import pandas as pd\n",
    "from sqlalchemy import create_engine"
   ]
  },
  {
   "cell_type": "code",
   "execution_count": 25,
   "id": "bb4ad9dc-66d1-48fb-97b6-c5e50c1840b6",
   "metadata": {},
   "outputs": [],
   "source": [
    "import os\n",
    "pwd = os.getcwd()"
   ]
  },
  {
   "cell_type": "code",
   "execution_count": 26,
   "id": "c793f15d-1f73-4c01-97e1-750593fe8535",
   "metadata": {},
   "outputs": [],
   "source": [
    "df2018 = pd.read_csv(pwd+'\\\\2018.csv')\n",
    "df2019 = pd.read_csv(pwd+'\\\\2019.csv')\n",
    "df2020 = pd.read_csv(pwd+'\\\\2020.csv')\n",
    "dfms = pd.read_csv(pwd+'\\\\market_segment.csv')\n",
    "dfmc = pd.read_csv(pwd+'\\\\meal_cost.csv')"
   ]
  },
  {
   "cell_type": "code",
   "execution_count": 23,
   "id": "c59deee0-b50a-4e66-b291-aa06c708c23f",
   "metadata": {},
   "outputs": [],
   "source": [
    "\n",
    "db_uri = \"postgresql://postgres:@localhost:5432/Project2\"\n",
    "engine = create_engine(db_uri)"
   ]
  },
  {
   "cell_type": "code",
   "execution_count": 29,
   "id": "983445f7-4431-4e74-bb40-b0b9e6bbd209",
   "metadata": {},
   "outputs": [],
   "source": [
    "df2018.to_sql(name='year2018', con=engine, index=False, if_exists='append')\n",
    "engine.dispose()"
   ]
  },
  {
   "cell_type": "code",
   "execution_count": 30,
   "id": "a90ccdf2-b540-4d05-88da-73ea5da57092",
   "metadata": {},
   "outputs": [],
   "source": [
    "df2019.to_sql(name='year2019', con=engine, index=False, if_exists='append')\n",
    "engine.dispose()"
   ]
  },
  {
   "cell_type": "code",
   "execution_count": 31,
   "id": "e7f1c45f-8c09-470c-b7ab-21ecc3b9104f",
   "metadata": {},
   "outputs": [],
   "source": [
    "df2020.to_sql(name='year2020', con=engine, index=False, if_exists='append')\n",
    "engine.dispose()"
   ]
  },
  {
   "cell_type": "code",
   "execution_count": 32,
   "id": "5938cb3a-848e-4fd8-9e70-829bed3dde3d",
   "metadata": {},
   "outputs": [],
   "source": [
    "dfms.to_sql(name='market_segment', con=engine, index=False, if_exists='append')\n",
    "engine.dispose()"
   ]
  },
  {
   "cell_type": "code",
   "execution_count": 28,
   "id": "dd99e126-2ae4-434f-9337-fd7318fc850d",
   "metadata": {},
   "outputs": [],
   "source": [
    "dfmc.to_sql(name='meal_cost', con=engine, index=False, if_exists='append')\n",
    "engine.dispose()"
   ]
  }
 ],
 "metadata": {
  "kernelspec": {
   "display_name": "Python 3 (ipykernel)",
   "language": "python",
   "name": "python3"
  },
  "language_info": {
   "codemirror_mode": {
    "name": "ipython",
    "version": 3
   },
   "file_extension": ".py",
   "mimetype": "text/x-python",
   "name": "python",
   "nbconvert_exporter": "python",
   "pygments_lexer": "ipython3",
   "version": "3.9.13"
  }
 },
 "nbformat": 4,
 "nbformat_minor": 5
}
